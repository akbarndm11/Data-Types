{
 "cells": [
  {
   "cell_type": "code",
   "execution_count": 1,
   "id": "6174ccc0",
   "metadata": {},
   "outputs": [
    {
     "name": "stdout",
     "output_type": "stream",
     "text": [
      "4\n"
     ]
    }
   ],
   "source": [
    "print(2+2) "
   ]
  },
  {
   "cell_type": "markdown",
   "id": "509ee3f5",
   "metadata": {},
   "source": [
    "# Lesson 1 Data types\n"
   ]
  },
  {
   "cell_type": "code",
   "execution_count": 2,
   "id": "ee126f22",
   "metadata": {},
   "outputs": [
    {
     "name": "stdout",
     "output_type": "stream",
     "text": [
      "40 <class 'int'>\n",
      "Akbar <class 'str'>\n",
      "71.6 <class 'float'>\n",
      "True <class 'bool'>\n"
     ]
    }
   ],
   "source": [
    "age = 40\n",
    "Name = 'Akbar'\n",
    "weight= 71.6\n",
    "passed = True\n",
    "\n",
    "print(age,type(age))\n",
    "print (Name,type(Name))\n",
    "print (weight,type(weight))\n",
    "print (passed,type(passed))\n"
   ]
  },
  {
   "cell_type": "code",
   "execution_count": 3,
   "id": "6cb99c68",
   "metadata": {},
   "outputs": [
    {
     "name": "stdout",
     "output_type": "stream",
     "text": [
      "5.099121720515953e+114\n"
     ]
    }
   ],
   "source": [
    "print(age**weight)"
   ]
  },
  {
   "cell_type": "code",
   "execution_count": 4,
   "id": "4bde6848",
   "metadata": {},
   "outputs": [
    {
     "name": "stdout",
     "output_type": "stream",
     "text": [
      "2864.0\n",
      "8.400000000000006\n"
     ]
    }
   ],
   "source": [
    "print(age*weight)\n",
    "print(age-weight+age)"
   ]
  },
  {
   "cell_type": "code",
   "execution_count": 5,
   "id": "b58032cb",
   "metadata": {},
   "outputs": [
    {
     "name": "stdout",
     "output_type": "stream",
     "text": [
      "30.9875\n"
     ]
    }
   ],
   "source": [
    "a1=20.45\n",
    "a2=20\n",
    "a3=40.5\n",
    "a4=43\n",
    "\n",
    "avg=(a1+a2+a3+a4)/4\n",
    "\n",
    "print (avg)"
   ]
  },
  {
   "cell_type": "code",
   "execution_count": 6,
   "id": "f840cef5",
   "metadata": {},
   "outputs": [
    {
     "name": "stdout",
     "output_type": "stream",
     "text": [
      "1\n",
      "<class 'int'>\n"
     ]
    }
   ],
   "source": [
    "#floor div\n",
    "\n",
    "typeOne = int(weight//age)\n",
    "\n",
    "print(typeOne)\n",
    "print(type(typeOne))\n"
   ]
  },
  {
   "cell_type": "code",
   "execution_count": 7,
   "id": "a9f11982",
   "metadata": {},
   "outputs": [
    {
     "name": "stdout",
     "output_type": "stream",
     "text": [
      "1\n",
      "<class 'float'>\n"
     ]
    }
   ],
   "source": [
    "print(2//2)\n",
    "typeTwo = 2.5//2.4\n",
    "print(type(typeTwo))"
   ]
  },
  {
   "cell_type": "code",
   "execution_count": 8,
   "id": "e7a3f6a8",
   "metadata": {},
   "outputs": [
    {
     "name": "stdout",
     "output_type": "stream",
     "text": [
      "0.34\n"
     ]
    }
   ],
   "source": [
    "#rounded\n",
    "Math =26 \n",
    "english= 76.4\n",
    "total= round(Math/english, 3)\n",
    "print(total)"
   ]
  },
  {
   "cell_type": "code",
   "execution_count": 9,
   "id": "e72a093d",
   "metadata": {},
   "outputs": [
    {
     "name": "stdout",
     "output_type": "stream",
     "text": [
      "<class 'int'>\n",
      "<class 'float'>\n"
     ]
    }
   ],
   "source": [
    "print(type(Math))\n",
    "print(type(english))"
   ]
  },
  {
   "cell_type": "code",
   "execution_count": 10,
   "id": "a9beba2d",
   "metadata": {},
   "outputs": [
    {
     "name": "stdout",
     "output_type": "stream",
     "text": [
      "<class 'bool'>\n"
     ]
    }
   ],
   "source": [
    "print(type(passed))"
   ]
  },
  {
   "cell_type": "code",
   "execution_count": 11,
   "id": "0c0eced6",
   "metadata": {},
   "outputs": [
    {
     "name": "stdout",
     "output_type": "stream",
     "text": [
      "5.56\n",
      "42.0\n"
     ]
    }
   ],
   "source": [
    "#F to C AND C TO F\n",
    "f = 42\n",
    "c= 5.56\n",
    "convert_c= round((f-32)/1.8, 2)\n",
    "convert_f= round((c*1.8)+32, 1)\n",
    "print(convert_c)\n",
    "print(convert_f)"
   ]
  },
  {
   "cell_type": "code",
   "execution_count": 12,
   "id": "1aefdaf0",
   "metadata": {},
   "outputs": [
    {
     "name": "stdout",
     "output_type": "stream",
     "text": [
      "68.0\n",
      "91\n"
     ]
    }
   ],
   "source": [
    "#MILES TO KM and km to miles\n",
    "\n",
    "m= 57\n",
    "k =110\n",
    "convert_km = round(m*1.6)\n",
    "convert_m = (k//1.6)\n",
    "print(convert_m)\n",
    "print(convert_km)\n",
    " "
   ]
  },
  {
   "cell_type": "code",
   "execution_count": 13,
   "id": "19463c2d",
   "metadata": {},
   "outputs": [
    {
     "name": "stdout",
     "output_type": "stream",
     "text": [
      "72.64\n",
      "189.4\n"
     ]
    }
   ],
   "source": [
    "#pound to kg and kg to pound\n",
    "\n",
    "p= 160\n",
    "g=86\n",
    "\n",
    "convert_p= round(160*0.454,2)\n",
    "convert_g= round(86/0.454, 1)\n",
    "print(convert_p)\n",
    "print(convert_g)"
   ]
  },
  {
   "cell_type": "code",
   "execution_count": 14,
   "id": "9e1c71d6",
   "metadata": {},
   "outputs": [
    {
     "name": "stdout",
     "output_type": "stream",
     "text": [
      "325\n",
      "12.68\n"
     ]
    }
   ],
   "source": [
    "#gallons to litres and litre to gallon\n",
    "\n",
    "G= 28\n",
    "l= 48\n",
    "convert_l= int(g*3.78541)\n",
    "convert_g= round(48/3.78541, 2)\n",
    "print(convert_l)\n",
    "print(convert_g)\n",
    "\n",
    "    "
   ]
  },
  {
   "cell_type": "code",
   "execution_count": 15,
   "id": "20871de9",
   "metadata": {},
   "outputs": [
    {
     "name": "stdout",
     "output_type": "stream",
     "text": [
      "3\n"
     ]
    }
   ],
   "source": [
    "#CALC SIMPLE INTEREST\n",
    "p = 110\n",
    "r= 0.5\n",
    "i= 5\n",
    "\n",
    "SI= round(p*r*i/100)\n",
    "\n",
    "\n",
    "print(SI)\n",
    "\n",
    "\n"
   ]
  },
  {
   "cell_type": "code",
   "execution_count": 16,
   "id": "83daf45b",
   "metadata": {},
   "outputs": [
    {
     "name": "stdout",
     "output_type": "stream",
     "text": [
      "<class 'float'>\n",
      "9\n",
      "997\n",
      "998\n"
     ]
    }
   ],
   "source": [
    "#calculating FORCE\n",
    "\n",
    "import math\n",
    "m = 25.66\n",
    "a= 38.89\n",
    "s= 110.67\n",
    "\n",
    "f= math.ceil(m*a)\n",
    "r=math.floor(m*a)\n",
    "d= (f/110.67)\n",
    "q= (f/110.67)\n",
    "print (type(q))\n",
    "print (int(d))\n",
    "print(r)\n",
    "print(f)\n",
    "\n",
    "\n"
   ]
  },
  {
   "cell_type": "markdown",
   "id": "68eccba0",
   "metadata": {},
   "source": [
    "**above codes are to learn Data Types**\n",
    "# title\n"
   ]
  },
  {
   "cell_type": "markdown",
   "id": "a83d30e1",
   "metadata": {},
   "source": [
    "i am doing this to increase my knowledge"
   ]
  },
  {
   "cell_type": "code",
   "execution_count": 17,
   "id": "927730da",
   "metadata": {},
   "outputs": [
    {
     "name": "stdout",
     "output_type": "stream",
     "text": [
      "49.76\n"
     ]
    }
   ],
   "source": [
    "x= 29.87\n",
    "y=8.53\n",
    "n= 10\n",
    "r=0.06\n",
    "\n",
    "a= round((x*((1+(r/n))**(n*y))),2)\n",
    "\n",
    "print(a)\n",
    "\n"
   ]
  },
  {
   "cell_type": "markdown",
   "id": "0569618e",
   "metadata": {},
   "source": [
    "## **the above code is calculating compound interest**"
   ]
  },
  {
   "cell_type": "code",
   "execution_count": 18,
   "id": "1737aade",
   "metadata": {},
   "outputs": [
    {
     "name": "stdout",
     "output_type": "stream",
     "text": [
      "enter celsius temp here:36\n",
      "96.8\n"
     ]
    }
   ],
   "source": [
    "c= float(input('enter celsius temp here:'))\n",
    "convert_f= round((c*1.8)+32, 1)\n",
    "print(convert_f)"
   ]
  },
  {
   "cell_type": "code",
   "execution_count": 19,
   "id": "8fd2abb8",
   "metadata": {},
   "outputs": [
    {
     "name": "stdout",
     "output_type": "stream",
     "text": [
      "enter F temp here:109\n",
      "42.78\n"
     ]
    }
   ],
   "source": [
    "f = float(input('enter F temp here:'))\n",
    "convert_c= round((f-32)/1.8, 2)\n",
    "print(convert_c)\n"
   ]
  },
  {
   "cell_type": "code",
   "execution_count": 20,
   "id": "0f693370",
   "metadata": {},
   "outputs": [
    {
     "name": "stdout",
     "output_type": "stream",
     "text": [
      "enter miles distance here:20\n",
      "32\n"
     ]
    }
   ],
   "source": [
    "m= int(input('enter miles distance here:'))\n",
    "convert_km = round(m*1.6)\n",
    "print(convert_km)\n",
    " "
   ]
  },
  {
   "cell_type": "code",
   "execution_count": 21,
   "id": "73650664",
   "metadata": {},
   "outputs": [
    {
     "name": "stdout",
     "output_type": "stream",
     "text": [
      "enter the mass quantity here: 20\n",
      "enter acc rate here: 109\n",
      "2180\n"
     ]
    }
   ],
   "source": [
    "mass= float(input(\"enter the mass quantity here: \"))\n",
    "Acc= int(input(\"enter acc rate here: \"))\n",
    "f= int(mass*Acc)\n",
    "print(f)"
   ]
  },
  {
   "cell_type": "code",
   "execution_count": 22,
   "id": "346455b7",
   "metadata": {},
   "outputs": [
    {
     "name": "stdout",
     "output_type": "stream",
     "text": [
      "mid term marks in maths 55, mid term marks in physics 72, mid terms marks in biology 41average is 140.67\n"
     ]
    }
   ],
   "source": [
    "math = 55\n",
    "physics= 72\n",
    "biology = 41\n",
    "avg= round(math+physics+biology/3, 2)\n",
    "\n",
    "print (f\"mid term marks in maths {math}, mid term marks in physics {physics}, mid terms marks in biology {biology}\\\n",
    "average is {avg}\")\n"
   ]
  },
  {
   "cell_type": "code",
   "execution_count": 23,
   "id": "1399d46a",
   "metadata": {
    "scrolled": true
   },
   "outputs": [
    {
     "name": "stdout",
     "output_type": "stream",
     "text": [
      "give me your text: run and run\n",
      "which word you want to count:run\n",
      "Your text count appears these many times, lmk if you want some other word as well and your count is 2\n"
     ]
    }
   ],
   "source": [
    "txt= input('give me your text: ')\n",
    "txt_cnt = input(\"which word you want to count:\")\n",
    "count = txt.count(txt_cnt)\n",
    "print(f\"Your text count appears these many times, lmk if you want some other word as well and your count is {count}\")"
   ]
  },
  {
   "cell_type": "code",
   "execution_count": 24,
   "id": "69f90335",
   "metadata": {},
   "outputs": [
    {
     "name": "stdout",
     "output_type": "stream",
     "text": [
      "Enter your first name: akbar\n",
      "Enter your last name: nadeem\n",
      "Hello Akbar Nadeem!\n"
     ]
    }
   ],
   "source": [
    "FN=input('Enter your first name: ') \n",
    "LN=input('Enter your last name: ')\n",
    "cap_FN= FN.capitalize() \n",
    "cap_LN= LN.capitalize()\n",
    "print(f'Hello {cap_FN} {cap_LN}!')"
   ]
  },
  {
   "cell_type": "code",
   "execution_count": 30,
   "id": "f856fa17",
   "metadata": {},
   "outputs": [
    {
     "name": "stdout",
     "output_type": "stream",
     "text": [
      "enter a password: password1\n",
      "Password is strong 9Password1False\n"
     ]
    }
   ],
   "source": [
    "p= input(\"enter a password: \")\n",
    "c= len(p)\n",
    "Cp=p.capitalize()\n",
    "n= p.isnumeric()\n",
    "print(f'Password is strong {c}{Cp}{n}'d)"
   ]
  },
  {
   "cell_type": "code",
   "execution_count": 82,
   "id": "9cf26593",
   "metadata": {},
   "outputs": [
    {
     "name": "stdout",
     "output_type": "stream",
     "text": [
      " checking vowels for dabur and its should have 1 True\n"
     ]
    }
   ],
   "source": [
    "check_v= 'dabur' #input(\"enter a string here: \")\n",
    "vowel='ab'\n",
    "d= check_v.find(vowel)\n",
    "c= check_v.islower()\n",
    "print(f\" checking vowels for {check_v} and its should have {d} {c}\" )\n"
   ]
  },
  {
   "cell_type": "code",
   "execution_count": 46,
   "id": "e3f98c7d",
   "metadata": {},
   "outputs": [
    {
     "name": "stdout",
     "output_type": "stream",
     "text": [
      "enter a sentence here: ou are a intelligent, nahh bro you are too. oh no!\n",
      " ou are a intelligent, nahh bro you are too, oh no! (replaced period with commas \n"
     ]
    }
   ],
   "source": [
    "a = input(\"enter a sentence here: \")\n",
    "b = a.replace(\".\",\",\")\n",
    "print(f\" {b} (replaced period with commas \")"
   ]
  },
  {
   "cell_type": "code",
   "execution_count": 48,
   "id": "a398c11e",
   "metadata": {},
   "outputs": [
    {
     "name": "stdout",
     "output_type": "stream",
     "text": [
      "enter your password: nafisisdiabolical\n",
      " I am checking the length of the password 17\n"
     ]
    }
   ],
   "source": [
    "x= input(\"enter your password: \")\n",
    "l= len(x)\n",
    "print(f' I am checking the length of the password {l}' )"
   ]
  },
  {
   "cell_type": "code",
   "execution_count": 55,
   "id": "d8bb1d84",
   "metadata": {},
   "outputs": [
    {
     "name": "stdout",
     "output_type": "stream",
     "text": [
      "   put names to put a list:      akbar\n",
      " creating a list of names you provide akbar \n"
     ]
    }
   ],
   "source": [
    "n= input('   put names to put a list:      ')\n",
    "l_list= n.strip()\n",
    "print(f' creating a list of names you provide {l_list} ')"
   ]
  },
  {
   "cell_type": "code",
   "execution_count": 69,
   "id": "e4c25de8",
   "metadata": {},
   "outputs": [
    {
     "name": "stdout",
     "output_type": "stream",
     "text": [
      "enter your word doc here to find a word: there are 3 things i need first is 2 and second is 26\n",
      "I am trying to see where is 51\n"
     ]
    }
   ],
   "source": [
    "w_sent= input('enter your word doc here to find a word: ')\n",
    "a_indx= w_sent.find('26')\n",
    "print(f\"I am trying to see where is {a_indx}\")\n"
   ]
  },
  {
   "cell_type": "code",
   "execution_count": 77,
   "id": "e599aae5",
   "metadata": {},
   "outputs": [
    {
     "name": "stdout",
     "output_type": "stream",
     "text": [
      "making sure its false or True but its False\n"
     ]
    }
   ],
   "source": [
    "text = (\"how are you, 🌍\")\n",
    "txt_ascii= text.isascii()\n",
    "print(f'making sure its false or True but its {txt_ascii}')"
   ]
  },
  {
   "cell_type": "code",
   "execution_count": null,
   "id": "be25c2b9",
   "metadata": {},
   "outputs": [],
   "source": [
    "#Write a program that:\n",
    "\n",
    "# Takes a user's full name (first name and last name) as input\n",
    "# Takes their email address as input\n",
    "# Takes their favorite quote as input\n",
    "\n",
    "# The program should:\n",
    "\n",
    "# Clean up extra spaces from both ends of all inputs using strip()\n",
    "# Convert the full name to title case\n",
    "# Split the full name into first and last name\n",
    "# Replace any dots (.) in the email with the text [DOT]\n",
    "# Convert the quote to all uppercase\n",
    "\n",
    "# Finally, create a formatted output that displays:\n",
    "\n",
    "# Welcome message using their first name only\n",
    "# Their email in the modified format\n",
    "# Their quote\n",
    "\n",
    "# The output should use f-strings to create a nicely formatted display.\n",
    "\n"
   ]
  },
  {
   "cell_type": "code",
   "execution_count": 83,
   "id": "0f06ab3c",
   "metadata": {},
   "outputs": [
    {
     "name": "stdout",
     "output_type": "stream",
     "text": [
      "enter the full name: akbar nadeem\n",
      "enter your email: ak.17@gmail.com\n",
      "Your fav Quote: god is great\n",
      "WelcomeAkbar and your email isakDOT17@gmailDOTcom with yourGOD IS GREAT\n"
     ]
    }
   ],
   "source": [
    "Full_name= input('enter the full name: ')\n",
    "email= input(\"enter your email: \")\n",
    "quote= input('Your fav Quote: ')\n",
    "\n",
    "Full_name= Full_name.strip()\n",
    "email= email.strip()\n",
    "quote= quote.strip()\n",
    "\n",
    "Full_name=Full_name.title()\n",
    "Firstname,Secondname=Full_name.split()\n",
    "email=email.replace('.','DOT')\n",
    "quote=quote.upper()\n",
    "\n",
    "print(f'Welcome  {Firstname} and your email is{email} with your{quote}')"
   ]
  },
  {
   "cell_type": "code",
   "execution_count": 84,
   "id": "78c5759f",
   "metadata": {},
   "outputs": [],
   "source": [
    "# Write a program that processes a student's course details:\n",
    "\n",
    "# Take a course code as input (e.g., \"CSE-101-PYTHON\")\n",
    "# Take instructor's name as input (e.g., \"dr. sarah smith\")\n",
    "# Take class schedule as input (e.g., \"Monday & Wednesday 10:00am\")\n",
    "\n",
    "# The program should:\n",
    "\n",
    "# Split the course code into department, number, and title using the dash (-) as separator\n",
    "# Convert the instructor's name to proper title case (e.g., \"Dr. Sarah Smith\")\n",
    "# Clean up the schedule by:\n",
    "\n",
    "# Removing extra spaces between days and time\n",
    "# Replacing '&' with the word 'and'\n",
    "# Converting time to uppercase\n",
    "\n",
    "# Finally, create a formatted output that shows the processed information\n",
    "\n"
   ]
  },
  {
   "cell_type": "code",
   "execution_count": 85,
   "id": "462438ce",
   "metadata": {},
   "outputs": [
    {
     "name": "stdout",
     "output_type": "stream",
     "text": [
      "enter your course code here: CSE-101-PYTHON\n",
      "name of your instructor here:dr. sarah smith\n",
      "class schedule is at: Monday & Wednesday 10:00am\n",
      " your course code is CSE-101-PYTHON, instructors name is Dr. Sarah Smith and class schedule is at MONDAYANDWEDNESDAY10:00AM\n"
     ]
    }
   ],
   "source": [
    "coursecode=input(\"enter your course code here: \")\n",
    "instructor=input(\"name of your instructor here:\")\n",
    "schedule=input('class schedule is at: ')\n",
    "\n",
    "dept,no,title=coursecode.split('-')\n",
    "instructor=instructor.title()\n",
    "schedule=schedule.replace(\" \",\"\")\n",
    "schedule=schedule.replace('&',\"and\")\n",
    "schedule=schedule.upper()\n",
    "\n",
    "print(f' your course code is {coursecode}, instructors name is {instructor} and class schedule is at {schedule}')\n"
   ]
  },
  {
   "cell_type": "code",
   "execution_count": 94,
   "id": "006d858f",
   "metadata": {},
   "outputs": [
    {
     "name": "stdout",
     "output_type": "stream",
     "text": [
      "Enter your email here: john.doe@example.com\n",
      "formatted email is john.doe@example.com with username john.doe and domain example.com\n"
     ]
    }
   ],
   "source": [
    "email=input('Enter your email here: ')\n",
    "email_clean= email.strip()\n",
    "extract_username, domain= email[:8],email[9:] \n",
    "\n",
    "print(f'formatted email is {email} with username {extract_username} and domain {domain}')\n"
   ]
  },
  {
   "cell_type": "code",
   "execution_count": 116,
   "id": "1832ae32",
   "metadata": {},
   "outputs": [
    {
     "name": "stdout",
     "output_type": "stream",
     "text": [
      "date is : 2024-12-22\n",
      "reformating the new date December 22, 2024\n"
     ]
    }
   ],
   "source": [
    "d_date= input('date is : ')\n",
    "year,month,day= d_date[:4],d_date[5:7],d_date[8:]\n",
    "\n",
    "month_name= month.replace(\"12\",\"December\")\n",
    "\n",
    "print(f'reformating the new date {month_name} {day}, {year}')"
   ]
  },
  {
   "cell_type": "code",
   "execution_count": null,
   "id": "9c430862",
   "metadata": {},
   "outputs": [],
   "source": [
    "#### ask the user to give you a sentence or a paragraph. \n",
    "###extract all words starting with upper or lower case 'a'\n",
    "\n",
    "### hint: find, index, slicing\n",
    "\n",
    "para= input('give me a paragraph: ')\n",
    "para= para.find(a)\n",
    "para=para[] "
   ]
  }
 ],
 "metadata": {
  "kernelspec": {
   "display_name": "Python 3 (ipykernel)",
   "language": "python",
   "name": "python3"
  },
  "language_info": {
   "codemirror_mode": {
    "name": "ipython",
    "version": 3
   },
   "file_extension": ".py",
   "mimetype": "text/x-python",
   "name": "python",
   "nbconvert_exporter": "python",
   "pygments_lexer": "ipython3",
   "version": "3.9.12"
  }
 },
 "nbformat": 4,
 "nbformat_minor": 5
}
